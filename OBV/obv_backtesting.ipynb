{
  "nbformat": 4,
  "nbformat_minor": 0,
  "metadata": {
    "colab": {
      "provenance": []
    },
    "kernelspec": {
      "name": "python3",
      "display_name": "Python 3"
    },
    "language_info": {
      "name": "python"
    }
  },
  "cells": [
    {
      "cell_type": "code",
      "source": [
        "pip install backtrader"
      ],
      "metadata": {
        "colab": {
          "base_uri": "https://localhost:8080/"
        },
        "id": "syfoTxHRAeYj",
        "outputId": "bf7fe062-590c-4d9a-a4eb-3e2a714121f2"
      },
      "execution_count": null,
      "outputs": [
        {
          "output_type": "stream",
          "name": "stdout",
          "text": [
            "Requirement already satisfied: backtrader in /usr/local/lib/python3.10/dist-packages (1.9.78.123)\n"
          ]
        }
      ]
    },
    {
      "cell_type": "code",
      "source": [
        "import backtrader as bt\n",
        "import pandas as pd\n",
        "import yfinance as yf\n",
        "\n",
        "class OBVWindow(bt.Indicator):\n",
        "    lines = ('obv_window',)\n",
        "    params = (('window', 15),)\n",
        "\n",
        "    def __init__(self):\n",
        "        self.addminperiod(self.params.window)\n",
        "\n",
        "    def next(self):\n",
        "        # 롤링 OBV 초기화\n",
        "        rolling_obv = 0\n",
        "\n",
        "        # 롤링 윈도우에 대해 OBV 변경 사항 계산\n",
        "        for i in range(1, self.params.window + 1):\n",
        "            obv_change = 0\n",
        "            if self.data.close[-i] > self.data.close[-i - 1]:  # 가격 상승\n",
        "                obv_change = self.data.volume[-i]\n",
        "            elif self.data.close[-i] < self.data.close[-i - 1]:  # 가격 하락\n",
        "                obv_change = -self.data.volume[-i]\n",
        "\n",
        "            # 롤링 OBV에 누적\n",
        "            rolling_obv += obv_change\n",
        "\n",
        "        # 계산된 롤링 OBV를 라인에 할당\n",
        "        self.lines.obv_window[0] = rolling_obv\n",
        "\n",
        "\n",
        "\n",
        "# Trading strategy using OBV and CCI\n",
        "class OBVStrategy(bt.Strategy):\n",
        "    params = (\n",
        "        ('obv_window', 10),\n",
        "        ('cci_period', 18),\n",
        "    )\n",
        "\n",
        "    def __init__(self):\n",
        "        # Add indicators\n",
        "        self.obv = OBVWindow(self.data, window=self.params.obv_window)\n",
        "        self.rsi = bt.indicators.RSI(self.data.close)\n",
        "        self.cci = bt.indicators.CommodityChannelIndex(\n",
        "            self.data, period=self.params.cci_period\n",
        "        )\n",
        "        self.buy_price = 0\n",
        "\n",
        "        # Initialize lists to record buy and sell dates\n",
        "        self.buy_dates = []  # 매수 날짜 저장\n",
        "        self.sell_dates = []  # 매도 날짜 저장\n",
        "\n",
        "    def next(self):\n",
        "\n",
        "        date = self.data.datetime.date(0)  # 현재 데이터의 날짜\n",
        "        cash = self.broker.get_cash()      # 현재 가용 자금\n",
        "        price = self.data.close[0]         # 현재 종가\n",
        "        size = int(cash / price)           # 살 수 있는 최대 주식 수\n",
        "        #print(f\"{self.data.datetime.date(0)} {price}, have a cash: {cash}, position.size : {self.position.size}\")\n",
        "        if self.position:  # If in position\n",
        "            # Sell if OBV is below 0\n",
        "            if self.obv[0] < 0:\n",
        "                self.sell(size=self.position.size)\n",
        "                #print(f\"SELL: {self.data.close[0]:.2f} on {self.data.datetime.date(0)}, buy : {self.buy_price}, sell : {price}, have a cash: {cash}\")\n",
        "                self.sell_dates.append(str(self.data.datetime.date(0)))  # 매도 날짜 기록\n",
        "        else:  # If not in position\n",
        "            # Buy if OBV is above 0\n",
        "            if self.obv[0] > 0 and size > 0:\n",
        "                self.buy_price = self.data.close[0]\n",
        "                self.buy(size=size)\n",
        "                #print(f\"BUY: {self.data.close[0]:.2f} on {self.data.datetime.date(0)} position :{self.position.size}, have a cash: {cash}\")\n",
        "                self.buy_dates.append(str(self.data.datetime.date(0)))  # 매수 날짜 기록\n",
        "\n",
        "\n",
        "# Backtesting function for multiple stocks\n",
        "def backtest_stocks(stock_list, start_date, end_date):\n",
        "    results = []\n",
        "\n",
        "    for stock in stock_list:\n",
        "        print(f\"\\nBacktesting for {stock}...\")\n",
        "\n",
        "        # Fetch data using yfinance\n",
        "        data = yf.download(stock, start=start_date, end=end_date)\n",
        "\n",
        "        # Validate data\n",
        "        if data.empty:\n",
        "            print(f\"No data for {stock}. Skipping...\")\n",
        "            continue\n",
        "\n",
        "        # Rename columns to match Backtrader's format\n",
        "        try:\n",
        "            data = data[['Open', 'High', 'Low', 'Close', 'Volume']].copy()\n",
        "            data.columns = ['open', 'high', 'low', 'close', 'volume']\n",
        "        except KeyError as e:\n",
        "            #print(f\"Error: Missing columns in data for {stock}. Skipping... ({e})\")\n",
        "            continue\n",
        "\n",
        "        # Convert to Backtrader data feed\n",
        "        try:\n",
        "            data_feed = bt.feeds.PandasData(dataname=data)\n",
        "        except Exception as e:\n",
        "            #print(f\"Error converting data for {stock} to Backtrader format: {e}\")\n",
        "            continue\n",
        "\n",
        "        # Set up Backtrader engine\n",
        "        cerebro = bt.Cerebro()\n",
        "        cerebro.adddata(data_feed)\n",
        "        cerebro.addstrategy(OBVStrategy)\n",
        "        cerebro.broker.set_cash(1000)  # Initial capital\n",
        "        cerebro.broker.setcommission(commission=0.001)  # Commission rate\n",
        "\n",
        "        # Run strategy\n",
        "        strategies = cerebro.run()  # Run returns a list of strategy instances\n",
        "        strategy_instance = strategies[0]  # 첫 번째 전략 인스턴스 가져오기\n",
        "\n",
        "        # Collect buy and sell dates from the strategy\n",
        "        buy_dates = strategy_instance.buy_dates  # 첫 번째 전략의 buy_dates 리스트\n",
        "        sell_dates = strategy_instance.sell_dates  # 첫 번째 전략의 sell_dates 리스트\n",
        "\n",
        "        # Calculate performance metrics\n",
        "        try:\n",
        "            start_value = cerebro.broker.startingcash\n",
        "            end_value = cerebro.broker.getvalue()\n",
        "            buy_and_hold_profit = data['close'].iloc[-1] / data['close'].iloc[0] * start_value\n",
        "            strategy_return = (end_value - start_value) / start_value * 100\n",
        "            buy_and_hold_return = (buy_and_hold_profit - start_value) / start_value * 100\n",
        "        except Exception as e:\n",
        "            #print(f\"Error calculating performance metrics for {stock}: {e}\")\n",
        "            continue\n",
        "\n",
        "        # Append results\n",
        "        results.append({\n",
        "            'Stock': stock,\n",
        "            'Strategy Return (%)': strategy_return,\n",
        "            'Buy-and-Hold Return (%)': buy_and_hold_return\n",
        "        })\n",
        "\n",
        "        # Print individual stock results\n",
        "        print()\n",
        "        print(f\"Strategy Return: {strategy_return:.2f}%\")\n",
        "        print(f\"Buy-and-Hold Return: {buy_and_hold_return:.2f}%\")\n",
        "\n",
        "    # Return results as a DataFrame\n",
        "    return pd.DataFrame(results), buy_dates, sell_dates\n",
        "\n",
        "# Example usage\n",
        "if __name__ == \"__main__\":\n",
        "    stock_list = [\n",
        "    \"AAPL\",  # Apple\n",
        "    \"MSFT\",  # Microsoft\n",
        "    \"AMZN\",  # Amazon\n",
        "    \"GOOGL\", # Google (Alphabet Inc.)\n",
        "    \"META\",  # Meta\n",
        "    \"TSLA\",  # Tesla\n",
        "    \"NVDA\",  # NVIDIA\n",
        "    \"NFLX\",  # Netflix\n",
        "    \"ADBE\",  # Adobe\n",
        "    \"INTC\"   # Intel\n",
        "]\n",
        "    start_date = '2023-01-01'\n",
        "    end_date = '2024-12-31'\n",
        "\n",
        "    results_df, buy_dates, sell_dates= backtest_stocks(stock_list, start_date, end_date)\n",
        "    print(\"\\nSummary of Results:\")\n",
        "    print(results_df)\n"
      ],
      "metadata": {
        "colab": {
          "base_uri": "https://localhost:8080/"
        },
        "id": "MxdxBnZsN1wj",
        "outputId": "7e171e50-88f6-462c-c81e-4573793d58ab"
      },
      "execution_count": null,
      "outputs": [
        {
          "output_type": "stream",
          "name": "stderr",
          "text": [
            "\r[*********************100%***********************]  1 of 1 completed"
          ]
        },
        {
          "output_type": "stream",
          "name": "stdout",
          "text": [
            "\n",
            "Backtesting for AAPL...\n"
          ]
        },
        {
          "output_type": "stream",
          "name": "stderr",
          "text": [
            "\n",
            "[*********************100%***********************]  1 of 1 completed"
          ]
        },
        {
          "output_type": "stream",
          "name": "stdout",
          "text": [
            "\n",
            "Strategy Return: 22.51%\n",
            "Buy-and-Hold Return: 106.44%\n",
            "\n",
            "Backtesting for MSFT...\n"
          ]
        },
        {
          "output_type": "stream",
          "name": "stderr",
          "text": [
            "\n",
            "[*********************100%***********************]  1 of 1 completed"
          ]
        },
        {
          "output_type": "stream",
          "name": "stdout",
          "text": [
            "\n",
            "Strategy Return: 31.91%\n",
            "Buy-and-Hold Return: 83.38%\n",
            "\n",
            "Backtesting for AMZN...\n"
          ]
        },
        {
          "output_type": "stream",
          "name": "stderr",
          "text": [
            "\n",
            "[*********************100%***********************]  1 of 1 completed"
          ]
        },
        {
          "output_type": "stream",
          "name": "stdout",
          "text": [
            "\n",
            "Strategy Return: 36.39%\n",
            "Buy-and-Hold Return: 166.90%\n",
            "\n",
            "Backtesting for GOOGL...\n"
          ]
        },
        {
          "output_type": "stream",
          "name": "stderr",
          "text": [
            "\n",
            "[*********************100%***********************]  1 of 1 completed"
          ]
        },
        {
          "output_type": "stream",
          "name": "stdout",
          "text": [
            "\n",
            "Strategy Return: 22.75%\n",
            "Buy-and-Hold Return: 120.05%\n",
            "\n",
            "Backtesting for META...\n"
          ]
        },
        {
          "output_type": "stream",
          "name": "stderr",
          "text": [
            "\n",
            "[*********************100%***********************]  1 of 1 completed"
          ]
        },
        {
          "output_type": "stream",
          "name": "stdout",
          "text": [
            "\n",
            "Strategy Return: 54.89%\n",
            "Buy-and-Hold Return: 387.21%\n",
            "\n",
            "Backtesting for TSLA...\n"
          ]
        },
        {
          "output_type": "stream",
          "name": "stderr",
          "text": [
            "\n",
            "[*********************100%***********************]  1 of 1 completed"
          ]
        },
        {
          "output_type": "stream",
          "name": "stdout",
          "text": [
            "\n",
            "Strategy Return: 41.73%\n",
            "Buy-and-Hold Return: 327.64%\n",
            "\n",
            "Backtesting for NVDA...\n"
          ]
        },
        {
          "output_type": "stream",
          "name": "stderr",
          "text": [
            "\n",
            "[*********************100%***********************]  1 of 1 completed"
          ]
        },
        {
          "output_type": "stream",
          "name": "stdout",
          "text": [
            "\n",
            "Strategy Return: 61.99%\n",
            "Buy-and-Hold Return: 879.53%\n",
            "\n",
            "Backtesting for NFLX...\n"
          ]
        },
        {
          "output_type": "stream",
          "name": "stderr",
          "text": [
            "\n",
            "[*********************100%***********************]  1 of 1 completed"
          ]
        },
        {
          "output_type": "stream",
          "name": "stdout",
          "text": [
            "\n",
            "Strategy Return: 35.14%\n",
            "Buy-and-Hold Return: 216.03%\n",
            "\n",
            "Backtesting for ADBE...\n"
          ]
        },
        {
          "output_type": "stream",
          "name": "stderr",
          "text": [
            "\n",
            "[*********************100%***********************]  1 of 1 completed"
          ]
        },
        {
          "output_type": "stream",
          "name": "stdout",
          "text": [
            "\n",
            "Strategy Return: -3.83%\n",
            "Buy-and-Hold Return: 32.95%\n",
            "\n",
            "Backtesting for INTC...\n"
          ]
        },
        {
          "output_type": "stream",
          "name": "stderr",
          "text": [
            "\n"
          ]
        },
        {
          "output_type": "stream",
          "name": "stdout",
          "text": [
            "\n",
            "Strategy Return: -9.50%\n",
            "Buy-and-Hold Return: -23.68%\n",
            "\n",
            "Summary of Results:\n",
            "   Stock  Strategy Return (%)  Buy-and-Hold Return (%)\n",
            "0   AAPL            22.510396               106.444401\n",
            "1   MSFT            31.909644                83.375066\n",
            "2   AMZN            36.391008               166.895833\n",
            "3  GOOGL            22.745643               120.051610\n",
            "4   META            54.892421               387.213412\n",
            "5   TSLA            41.731028               327.641078\n",
            "6   NVDA            61.987998               879.531997\n",
            "7   NFLX            35.141232               216.026430\n",
            "8   ADBE            -3.832118                32.951438\n",
            "9   INTC            -9.495368               -23.681257\n"
          ]
        }
      ]
    }
  ]
}