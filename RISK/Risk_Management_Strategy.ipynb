{
  "nbformat": 4,
  "nbformat_minor": 0,
  "metadata": {
    "colab": {
      "provenance": []
    },
    "kernelspec": {
      "name": "python3",
      "display_name": "Python 3"
    },
    "language_info": {
      "name": "python"
    }
  },
  "cells": [
    {
      "cell_type": "markdown",
      "source": [
        "#Risk Management Strategy\n",
        "\n",
        "리스크 관리를 통해 fomo와 대응으로 최소한의 리스크를 만드는 방법을 모방한다 시부랄거 제발 내 돈 좀 지켜줘 시발 퀀트투자에 쏟아부은 시간이 얼만데 아무 수익이 없어 시발 제발 이렇게 부탁할게 제발 도와줘 제미나미나 gpt나 뭐 심심이나 아무나 좀 알려줘"
      ],
      "metadata": {
        "id": "E7x37p3Z9A9G"
      }
    },
    {
      "cell_type": "code",
      "source": [
        "import pandas as pd\n",
        "import numpy as np\n",
        "\n",
        "def calculate_all_scenarios(\n",
        "    initial_price, target_percent, drop_range, rebound_range, investment_range\n",
        "):\n",
        "    \"\"\"\n",
        "    하락률별 모든 가능한 조합의 결과 도출.\n",
        "\n",
        "    :param initial_price: 초기 주식 가격\n",
        "    :param target_percent: 목표 상승률 (%)\n",
        "    :param drop_range: 하락률 범위 (리스트 또는 배열)\n",
        "    :param rebound_range: 반등률 범위 (리스트 또는 배열)\n",
        "    :param investment_range: 초기 투자 금액 범위 (리스트 또는 배열)\n",
        "    :return: DataFrame containing all scenarios\n",
        "    \"\"\"\n",
        "    results = []\n",
        "\n",
        "    # 목표 가격 계산\n",
        "    target_price = initial_price * (1 + target_percent / 100)\n",
        "\n",
        "    # 초기 투자 금액, 하락률, 반등률 조합 탐색\n",
        "    for drop_percent in drop_range:\n",
        "        dropped_price = initial_price * (1 - drop_percent / 100)\n",
        "\n",
        "        for rebound_percent in rebound_range:\n",
        "            rebound_price = dropped_price * (1 + rebound_percent / 100)\n",
        "\n",
        "            for initial_investment in investment_range:\n",
        "                try:\n",
        "                    # 추가 매집 금액 계산\n",
        "                    additional_investment = (\n",
        "                        (target_price * (initial_investment / initial_price)) - initial_investment\n",
        "                    ) / ((target_price / rebound_price) - 1)\n",
        "\n",
        "                    if additional_investment > 0:\n",
        "                        total_investment = initial_investment + additional_investment\n",
        "                        results.append({\n",
        "                            \"하락률 (%)\": drop_percent,\n",
        "                            \"반등률 (%)\": rebound_percent,\n",
        "                            \"초기 투자 금액\": initial_investment,\n",
        "                            \"추가 매집 금액\": additional_investment,\n",
        "                            \"총 투자 금액\": total_investment\n",
        "                        })\n",
        "                except ZeroDivisionError:\n",
        "                    continue\n",
        "\n",
        "    # 결과를 DataFrame으로 정리\n",
        "    return pd.DataFrame(results)\n",
        "\n",
        "\n",
        "# 예제: 초기 조건 설정\n",
        "initial_price = 100  # 초기 주가\n",
        "target_percent = 3  # 목표 상승률 (%)\n",
        "\n",
        "# 탐색 범위 설정\n",
        "drop_range = np.arange(1, 10, 0.5)  # 1% ~ 10% 하락률, 0.5% 간격\n",
        "rebound_range = np.arange(1, 15, 0.5)  # 1% ~ 15% 반등률, 0.5% 간격\n",
        "investment_range = np.arange(100000, 1000000, 100000)  # 초기 투자 금액 10만 ~ 100만 원, 10만 원 간격\n",
        "\n",
        "# 함수 호출\n",
        "all_scenarios = calculate_all_scenarios(\n",
        "    initial_price, target_percent, drop_range, rebound_range, investment_range\n",
        ")\n",
        "\n",
        "# 결과 출력\n",
        "print(all_scenarios)\n",
        "\n",
        "# 결과를 CSV 파일로 저장\n",
        "all_scenarios.to_csv(\"investment_scenarios.csv\", index=False)\n"
      ],
      "metadata": {
        "colab": {
          "base_uri": "https://localhost:8080/"
        },
        "id": "VqpqJR0S9Rw9",
        "outputId": "809e451a-f8fe-4f0d-8a51-7971947593f9"
      },
      "execution_count": null,
      "outputs": [
        {
          "output_type": "stream",
          "name": "stdout",
          "text": [
            "      하락률 (%)  반등률 (%)  초기 투자 금액      추가 매집 금액       총 투자 금액\n",
            "0         1.0      1.0    100000  9.965781e+04  1.996578e+05\n",
            "1         1.0      1.0    200000  1.993156e+05  3.993156e+05\n",
            "2         1.0      1.0    300000  2.989734e+05  5.989734e+05\n",
            "3         1.0      1.0    400000  3.986312e+05  7.986312e+05\n",
            "4         1.0      1.0    500000  4.982890e+05  9.982890e+05\n",
            "...       ...      ...       ...           ...           ...\n",
            "2605      9.5     13.5    500000  5.454027e+06  5.954027e+06\n",
            "2606      9.5     13.5    600000  6.544832e+06  7.144832e+06\n",
            "2607      9.5     13.5    700000  7.635637e+06  8.335637e+06\n",
            "2608      9.5     13.5    800000  8.726442e+06  9.526442e+06\n",
            "2609      9.5     13.5    900000  9.817248e+06  1.071725e+07\n",
            "\n",
            "[2610 rows x 5 columns]\n"
          ]
        }
      ]
    },
    {
      "cell_type": "code",
      "source": [],
      "metadata": {
        "id": "wfpiT3Nh9VId"
      },
      "execution_count": null,
      "outputs": []
    }
  ]
}