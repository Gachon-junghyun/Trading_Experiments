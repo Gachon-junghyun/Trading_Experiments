{
  "nbformat": 4,
  "nbformat_minor": 0,
  "metadata": {
    "colab": {
      "provenance": []
    },
    "kernelspec": {
      "name": "python3",
      "display_name": "Python 3"
    },
    "language_info": {
      "name": "python"
    }
  },
  "cells": [
    {
      "cell_type": "code",
      "execution_count": null,
      "metadata": {
        "colab": {
          "base_uri": "https://localhost:8080/"
        },
        "id": "La4PEGFfCiWE",
        "outputId": "b19b0a1d-88ef-4d92-8867-f7da84a5ed22"
      },
      "outputs": [
        {
          "output_type": "stream",
          "name": "stdout",
          "text": [
            "Condition met at row 354:\n",
            "  buy_threshold: 45\n",
            "  sell_threshold: 50\n",
            "  add_inc_upper: 0\n",
            "  add_inc_lower: 5\n"
          ]
        }
      ],
      "source": [
        "import pandas as pd\n",
        "\n",
        "# Load the CSV file\n",
        "file_path = '/content/cond.csv'\n",
        "df = pd.read_csv(file_path)\n",
        "\n",
        "# Define input values (replace these with your actual inputs)\n",
        "input_buy = 102.02       # Example input for buy\n",
        "input_add = 102.02 - 108.52     # Example input for add_inc_upper\n",
        "\n",
        "input_buy = 50       # Example input for buy\n",
        "input_add = 50 - 49     # Example input for add_inc_upper\n",
        "\n",
        "# Initialize a flag to track if the condition is met\n",
        "condition_met = False\n",
        "\n",
        "\n",
        "\n",
        "# Iterate through each row in the dataframe\n",
        "for index, row in df.iterrows():\n",
        "    #print(f\"input : {input_buy} {input_add} con : {row['buy_threshold']}, {row['sell_threshold']} {row['add_inc_lower']} {row['add_inc_upper']}\")\n",
        "    if (row['buy_threshold'] <= input_buy and input_buy <= row['sell_threshold'] and row['add_inc_lower'] >= input_add and input_add >= row['add_inc_upper']):\n",
        "        condition_met = True\n",
        "        print(f\"Condition met at row {index}:\")\n",
        "        print(f\"  buy_threshold: {row['buy_threshold']}\")\n",
        "        print(f\"  sell_threshold: {row['sell_threshold']}\")\n",
        "        print(f\"  add_inc_upper: {row['add_inc_upper']}\")\n",
        "        print(f\"  add_inc_lower: {row['add_inc_lower']}\")\n",
        "        break  # Stop checking further rows once a match is found\n",
        "\n",
        "# If no condition is met, print a message\n",
        "if not condition_met:\n",
        "    print(\"No matching condition found.\")\n"
      ]
    },
    {
      "cell_type": "code",
      "source": [
        "pip install backtrader"
      ],
      "metadata": {
        "colab": {
          "base_uri": "https://localhost:8080/"
        },
        "id": "5gYCLF4-CvgS",
        "outputId": "ded3127f-f008-482e-b627-2ddbecb5f02e"
      },
      "execution_count": null,
      "outputs": [
        {
          "output_type": "stream",
          "name": "stdout",
          "text": [
            "Collecting backtrader\n",
            "  Downloading backtrader-1.9.78.123-py2.py3-none-any.whl.metadata (6.8 kB)\n",
            "Downloading backtrader-1.9.78.123-py2.py3-none-any.whl (419 kB)\n",
            "\u001b[?25l   \u001b[90m━━━━━━━━━━━━━━━━━━━━━━━━━━━━━━━━━━━━━━━━\u001b[0m \u001b[32m0.0/419.5 kB\u001b[0m \u001b[31m?\u001b[0m eta \u001b[36m-:--:--\u001b[0m\r\u001b[2K   \u001b[91m━━━━━━\u001b[0m\u001b[91m╸\u001b[0m\u001b[90m━━━━━━━━━━━━━━━━━━━━━━━━━━━━━━━━━\u001b[0m \u001b[32m71.7/419.5 kB\u001b[0m \u001b[31m2.6 MB/s\u001b[0m eta \u001b[36m0:00:01\u001b[0m\r\u001b[2K   \u001b[91m━━━━━━━━━━━━━━━━━━━━━━━━━━━━━━━━━━━━━━━\u001b[0m\u001b[90m╺\u001b[0m \u001b[32m409.6/419.5 kB\u001b[0m \u001b[31m6.5 MB/s\u001b[0m eta \u001b[36m0:00:01\u001b[0m\r\u001b[2K   \u001b[90m━━━━━━━━━━━━━━━━━━━━━━━━━━━━━━━━━━━━━━━━\u001b[0m \u001b[32m419.5/419.5 kB\u001b[0m \u001b[31m5.5 MB/s\u001b[0m eta \u001b[36m0:00:00\u001b[0m\n",
            "\u001b[?25hInstalling collected packages: backtrader\n",
            "Successfully installed backtrader-1.9.78.123\n"
          ]
        }
      ]
    },
    {
      "cell_type": "code",
      "source": [
        "import backtrader as bt\n",
        "import yfinance as yf\n",
        "from datetime import datetime\n",
        "import numpy as np\n",
        "import pandas as pd\n",
        "from itertools import product\n",
        "\n",
        "# Load the CSV file\n",
        "file_path = '/content/cond.csv'\n",
        "df_csv = pd.read_csv(file_path)\n",
        "\n",
        "def find_sell_condition(cci, inc):\n",
        "  # Iterate through each row in the dataframe\n",
        "  for index, row in df_csv.iterrows():\n",
        "      if (row['buy_threshold'] <= cci and cci <= row['sell_threshold'] and row['add_inc_lower'] >= inc and inc >= row['add_inc_upper']):\n",
        "          return 1  # Stop checking further rows once a match is found\n",
        "  return 0\n",
        "\n",
        "class CCIStrategy(bt.Strategy):\n",
        "    params = (\n",
        "        ('cci_period', 18),     # CCI의 기본 기간\n",
        "        ('buy_threshold', 50),  # 매수 임계값\n",
        "        ('sell_threshold', 70), # 매도 임계값\n",
        "        ('add_inc_lower', 0.05),\n",
        "        ('add_inc_upper', 0.05),\n",
        "        ('add_buy_drop', 0.05), # 추가 매수 조건 (10% 하락)\n",
        "    )\n",
        "\n",
        "    def __init__(self):\n",
        "        self.cci = bt.indicators.CommodityChannelIndex(self.data, period=self.params.cci_period)\n",
        "        self.last_cci = 0\n",
        "        self.price_profit = []\n",
        "        self.trade_dates = []  # 매수/매도 날짜 기록\n",
        "        # Initialize a flag to track if the condition is met\n",
        "\n",
        "    def next(self):\n",
        "        date = self.data.datetime.date(0)  # 현재 데이터의 날짜\n",
        "        cash = self.broker.get_cash()      # 현재 가용 자금\n",
        "        price = self.data.close[0]         # 현재 종가\n",
        "        size = int(cash / price)           # 살 수 있는 최대 주식 수\n",
        "        #print(f\"condition : {self.cci[0]}, {self.cci[0] - self.last_cci}\")\n",
        "\n",
        "        # Buy condition and find_sell_condition(self.cci[0], self.cci[0] - self.last_cci) == 0\n",
        "        if not self.position and find_sell_condition(self.cci[0], self.cci[0] - self.last_cci) == 0:\n",
        "            self.buy(size=size)\n",
        "            #print(f\"buy cci : {self.cci[0]}, price : {price}\")\n",
        "            self.trade_dates.append({\"action\": \"buy\", \"date\": date, \"price\": price})\n",
        "        # Sell condition\n",
        "        elif find_sell_condition(self.cci[0], self.cci[0] - self.last_cci) == 1 and self.position:\n",
        "            profit = price - self.position.price\n",
        "            self.sell(size=self.position.size)\n",
        "            self.price_profit.append(profit)\n",
        "            #print(f\"1매수 가격: {self.position.price}, 매도 가격: {price}, 수익: {profit}\")\n",
        "            self.trade_dates.append({\"action\": \"sell\", \"date\": date, \"price\": price})\n",
        "\n",
        "        self.last_cci = self.cci[0]\n",
        "\n",
        "    def stop(self):\n",
        "        if self.position:\n",
        "            price = self.data.close[0]\n",
        "            date = self.data.datetime.date(0)\n",
        "            profit = price - self.position.price\n",
        "            self.sell(size=self.position.size)\n",
        "            self.price_profit.append(profit)\n",
        "            #print(f\"2매수 가격: {self.position.price}, 매도 가격: {price}, 수익: {profit}\")\n",
        "            self.trade_dates.append({\"action\": \"final_sell\", \"date\": date, \"price\": price})\n",
        "\n",
        "# Fetch data from Yahoo Finance using yfinance\n",
        "def fetch_data(symbol, start, end):\n",
        "    data = yf.download(symbol, start=start, end=end)\n",
        "    data = data[['Open', 'High', 'Low', 'Close', 'Volume']]\n",
        "    data.columns = ['open', 'high', 'low', 'close', 'volume']\n",
        "    return data\n",
        "\n",
        "# US stock symbols\n",
        "us_stock_symbols = [\n",
        "    \"AAPL\", \"MSFT\", \"GOOGL\", \"AMZN\", \"TSLA\", \"META\", \"NVDA\", \"ADBE\",\n",
        "    \"ORCL\", \"INTC\", \"JPM\", \"BAC\", \"C\", \"GS\", \"MS\", \"JNJ\", \"PFE\", \"UNH\", \"KO\", \"DIS\",\n",
        "    \"V\", \"MA\", \"HD\", \"WMT\", \"PG\", \"XOM\", \"CVX\", \"PEP\", \"NKE\", \"COST\",\n",
        "    \"NFLX\", \"T\", \"VZ\", \"BA\", \"MRK\", \"ABBV\", \"AMGN\", \"CRM\", \"QCOM\", \"IBM\", \"BITX\"\n",
        "]\n",
        "\n",
        "us_stock_symbols = [\n",
        "   \"TSLA\",\"NVDA\"\n",
        "]\n",
        "\n",
        "\n",
        "all_trades = []  # 통합 데이터를 저장할 리스트\n",
        "\n",
        "for symbol in us_stock_symbols:\n",
        "    start_date = \"2021-01-01\"\n",
        "    end_date = \"2024-11-16\"\n",
        "    df = fetch_data(symbol, start=start_date, end=end_date)\n",
        "    data = bt.feeds.PandasData(dataname=df)\n",
        "\n",
        "    cerebro = bt.Cerebro()\n",
        "\n",
        "    # Use a container to hold the strategy instance\n",
        "    strategy_container = {}\n",
        "\n",
        "    def strategy_creator(*args, **kwargs):\n",
        "        strategy_container['instance'] = CCIStrategy(*args, **kwargs)\n",
        "        return strategy_container['instance']\n",
        "\n",
        "    cerebro.addstrategy(strategy_creator)\n",
        "    cerebro.adddata(data)\n",
        "    cerebro.broker.setcash(100000)\n",
        "    cerebro.run()\n",
        "\n",
        "    # Access the strategy instance after running cerebro\n",
        "    strategy_instance = strategy_container.get('instance')\n",
        "    if strategy_instance is None:\n",
        "        continue\n",
        "\n",
        "    trade_date = strategy_instance.trade_dates\n",
        "\n",
        "    # Save all trades to a CSV file\n",
        "    trade_date_df = pd.DataFrame(trade_date)\n",
        "    output_file = symbol + \"_trades.csv\"\n",
        "    trade_date_df.to_csv(output_file, index=False)\n",
        "\n",
        "    profits = strategy_instance.price_profit\n",
        "    wins = len([p for p in profits if p > 0])\n",
        "    losses = len([p for p in profits if p <= 0])\n",
        "    win_rate = (wins / len(profits) * 100) if profits else 0\n",
        "    average_profit = sum([p for p in profits if p > 0]) / wins if wins > 0 else 0\n",
        "    average_loss = sum([p for p in profits if p <= 0]) / losses if losses > 0 else 0\n",
        "    #print(f\"Final Portfolio Value: ${cerebro.broker.getvalue():.2f}\")\n",
        "    all_trades.append({\n",
        "        \"symbol\": symbol, \"Total Trades\": len(profits), \"Winning Trades\": wins, \"Losing Trades\": losses,\n",
        "        \"Win Rate\": win_rate, \"Average Profit\": average_profit, \"Average Loss\": average_loss, \"total_money\" : cerebro.broker.getvalue()\n",
        "    })\n",
        "\n",
        "\n",
        "# Save all trades to a CSV file\n",
        "all_trades_df = pd.DataFrame(all_trades)\n",
        "output_file = \"all_trades.csv\"\n",
        "all_trades_df.to_csv(output_file, index=False)\n"
      ],
      "metadata": {
        "colab": {
          "base_uri": "https://localhost:8080/"
        },
        "id": "wVhSA7hzCsSi",
        "outputId": "13a98a20-6387-4748-e066-0cf29c514ed3"
      },
      "execution_count": null,
      "outputs": [
        {
          "output_type": "stream",
          "name": "stderr",
          "text": [
            "[*********************100%***********************]  1 of 1 completed\n",
            "[*********************100%***********************]  1 of 1 completed\n"
          ]
        }
      ]
    }
  ]
}